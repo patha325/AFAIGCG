{
  "nbformat": 4,
  "nbformat_minor": 0,
  "metadata": {
    "colab": {
      "name": "initialIris.ipynb",
      "provenance": [],
      "include_colab_link": true
    },
    "kernelspec": {
      "name": "python3",
      "display_name": "Python 3"
    }
  },
  "cells": [
    {
      "cell_type": "markdown",
      "metadata": {
        "id": "view-in-github",
        "colab_type": "text"
      },
      "source": [
        "<a href=\"https://colab.research.google.com/github/patha325/AFAIGCG/blob/master/initialIris.ipynb\" target=\"_parent\"><img src=\"https://colab.research.google.com/assets/colab-badge.svg\" alt=\"Open In Colab\"/></a>"
      ]
    },
    {
      "cell_type": "code",
      "metadata": {
        "id": "XUbDQv2tUFwB",
        "colab_type": "code",
        "colab": {}
      },
      "source": [
        "import pandas as pd\n",
        "import matplotlib.pyplot as plt\n",
        "import numpy as np"
      ],
      "execution_count": 0,
      "outputs": []
    },
    {
      "cell_type": "markdown",
      "metadata": {
        "id": "Uy2d0-mQivt8",
        "colab_type": "text"
      },
      "source": [
        "\n",
        "Lets start by defining a so called perceptron Machine Learning (ML) classifier, you can find more info at https://en.wikipedia.org/wiki/Perceptron This exists in most ML software packages, but it is good to run throught the defining code.\n",
        "\n",
        "In essence we're trying to find a simple criteria for the separation of our classification."
      ]
    },
    {
      "cell_type": "code",
      "metadata": {
        "id": "WMTkMuFjixpa",
        "colab_type": "code",
        "colab": {}
      },
      "source": [
        "'''\n",
        "class Perceptron(object):\n",
        "    \"\"\"Perceptron classifier.\n",
        "    Parameters\n",
        "    ------------\n",
        "    eta : float\n",
        "        Learning rate (between 0.0 and 1.0)\n",
        "    n_iter : int\n",
        "        Passes over the training dataset.\n",
        "    Attributes\n",
        "    -----------\n",
        "    w_ : 1d-array\n",
        "        Weights after fitting.\n",
        "    errors_ : list\n",
        "        Number of misclassifications in every epoch.\n",
        "    \"\"\"\n",
        "    def __init__(self, eta=0.01, n_iter=10):\n",
        "        self.eta = eta\n",
        "        self.n_iter = n_iter\n",
        "    def fit(self, X, y):\n",
        "           self.w_ = np.zeros(1 + X.shape[1])\n",
        "           self.errors_ = []\n",
        "           for _ in range(self.n_iter):\n",
        "               errors = 0\n",
        "               for xi, target in zip(X, y):\n",
        "                   update = self.eta * (target - self.predict(xi))\n",
        "                   self.w_[1:] += update * xi\n",
        "                   self.w_[0] += update\n",
        "                   errors += int(update != 0.0)\n",
        "               self.errors_.append(errors)\n",
        "           return self\n",
        "    def net_input(self, X):\n",
        "           \"\"\"Calculate net input\"\"\"\n",
        "           return np.dot(X, self.w_[1:]) + self.w_[0]\n",
        "    def predict(self, X):\n",
        "           \"\"\"Return class label after unit step\"\"\"\n",
        "           return np.where(self.net_input(X) >= 0.0, 1, -1)\n",
        "'''"
      ],
      "execution_count": 0,
      "outputs": []
    },
    {
      "cell_type": "code",
      "metadata": {
        "id": "EBUcvZ_6i4vu",
        "colab_type": "code",
        "colab": {}
      },
      "source": [
        "from sklearn import datasets\n",
        "#Handling that X and y actually contain 3 different iris types.\n",
        "iris = datasets.load_iris()\n",
        "X = iris.data[:, [2, 3]]\n",
        "y = iris.target\n",
        "T = []\n",
        "u = []\n",
        "for i in range(0,len(y)):\n",
        "    if y[i] == 0 or y[i] == 1:\n",
        "        T.append(X[i])\n",
        "        u.append(y[i])"
      ],
      "execution_count": 0,
      "outputs": []
    },
    {
      "cell_type": "code",
      "metadata": {
        "id": "BhEgcuxJjBqG",
        "colab_type": "code",
        "colab": {}
      },
      "source": [
        "plt.scatter(X[:50, 0], X[:50, 1],\n",
        "...             color='red', marker='o', label='setosa')\n",
        "plt.scatter(X[50:100, 0], X[50:100, 1],\n",
        "...             color='blue', marker='x', label='versicolor')\n",
        "plt.xlabel('petal length')\n",
        "plt.ylabel('sepal length')\n",
        "plt.legend(loc='upper left')\n",
        "plt.show()"
      ],
      "execution_count": 0,
      "outputs": []
    },
    {
      "cell_type": "markdown",
      "metadata": {
        "id": "vRNFcx1cjThc",
        "colab_type": "text"
      },
      "source": [
        "There is a predifined function to train our data into training and test sets, lets use it!"
      ]
    },
    {
      "cell_type": "code",
      "metadata": {
        "id": "Roc-oSRVjQ6R",
        "colab_type": "code",
        "colab": {}
      },
      "source": [
        "from sklearn.model_selection import train_test_split\n",
        "#X_train, X_test, y_train, y_test = train_test_split(X, y, test_size=0.3, random_state=0)\n",
        "X_train, X_test, y_train, y_test = train_test_split(T, u, test_size=0.3, random_state=0)"
      ],
      "execution_count": 0,
      "outputs": []
    },
    {
      "cell_type": "markdown",
      "metadata": {
        "id": "5SXKknNfjUNs",
        "colab_type": "text"
      },
      "source": [
        "Good practice is to start by normalizing the data, look at X_train and X_train_std"
      ]
    },
    {
      "cell_type": "code",
      "metadata": {
        "id": "CqvEKaovjSHW",
        "colab_type": "code",
        "colab": {}
      },
      "source": [
        "from sklearn.preprocessing import StandardScaler\n",
        "sc = StandardScaler()\n",
        "sc.fit(X_train)\n",
        "X_train_std = sc.transform(X_train)\n",
        "X_test_std = sc.transform(X_test)"
      ],
      "execution_count": 0,
      "outputs": []
    },
    {
      "cell_type": "code",
      "metadata": {
        "id": "8O0MvvWZjm_0",
        "colab_type": "code",
        "colab": {}
      },
      "source": [
        "plt.scatter(X_train_std[:50, 0], X_train_std[:50, 1],\n",
        "...             color='black', marker='x', label='setosa')\n",
        "plt.xlabel('petal length')\n",
        "plt.ylabel('sepal length')\n",
        "plt.legend(loc='upper left')\n",
        "plt.show()"
      ],
      "execution_count": 0,
      "outputs": []
    },
    {
      "cell_type": "markdown",
      "metadata": {
        "id": "gM67fiK4kdAd",
        "colab_type": "text"
      },
      "source": [
        "Initialize the sklearn perceptron, fit the training data. Could also have used our own implementation"
      ]
    },
    {
      "cell_type": "code",
      "metadata": {
        "id": "ghaWS-HVj9sy",
        "colab_type": "code",
        "colab": {}
      },
      "source": [
        "from sklearn.linear_model import Perceptron\n",
        "ppn = Perceptron(max_iter=40, eta0=0.1, random_state=0)\n",
        "ppn.fit(X_train_std, y_train)"
      ],
      "execution_count": 0,
      "outputs": []
    },
    {
      "cell_type": "markdown",
      "metadata": {
        "id": "8OF5XFQok-RX",
        "colab_type": "text"
      },
      "source": [
        "Using our test data, how many are missclassified?"
      ]
    },
    {
      "cell_type": "code",
      "metadata": {
        "id": "3RnQzRMBky8T",
        "colab_type": "code",
        "colab": {}
      },
      "source": [
        "y_pred = ppn.predict(X_test_std)\n",
        "print('Missclassified samples: %d' % (y_test != y_pred).sum())"
      ],
      "execution_count": 0,
      "outputs": []
    },
    {
      "cell_type": "code",
      "metadata": {
        "id": "ohrkW7C8k_ls",
        "colab_type": "code",
        "colab": {}
      },
      "source": [
        "from sklearn.metrics import accuracy_score\n",
        "print('Accuracy: %.2f' % accuracy_score(y_test, y_pred))"
      ],
      "execution_count": 0,
      "outputs": []
    },
    {
      "cell_type": "code",
      "metadata": {
        "id": "HNBXGpJZlBc8",
        "colab_type": "code",
        "colab": {}
      },
      "source": [
        "from matplotlib.colors import ListedColormap\n",
        "\n",
        "def plot_decision_regions(X, y, classifier,\n",
        "                       test_idx=None, resolution=0.02):\n",
        "    # setup marker generator and color map\n",
        "    markers = ('s', 'x', 'o', '^', 'v')\n",
        "    colors = ('red', 'blue', 'lightgreen', 'gray', 'cyan')\n",
        "    cmap = ListedColormap(colors[:len(np.unique(y))])\n",
        "    # plot the decision surface\n",
        "    x1_min, x1_max = X[:, 0].min() - 1, X[:, 0].max() + 1\n",
        "    x2_min, x2_max = X[:, 1].min() - 1, X[:, 1].max() + 1\n",
        "    xx1, xx2 = np.meshgrid(np.arange(x1_min, x1_max, resolution),\n",
        "                            np.arange(x2_min, x2_max, resolution))\n",
        "    Z = classifier.predict(np.array([xx1.ravel(), xx2.ravel()]).T)\n",
        "    Z = Z.reshape(xx1.shape)\n",
        "    plt.contourf(xx1, xx2, Z, alpha=0.4, cmap=cmap)\n",
        "    plt.xlim(xx1.min(), xx1.max())\n",
        "    plt.ylim(xx2.min(), xx2.max())\n",
        "    # plot all samples\n",
        "    X_test, y_test = X[test_idx, :], y[test_idx]\n",
        "    for idx, cl in enumerate(np.unique(y)):\n",
        "        plt.scatter(x=X[y == cl, 0], y=X[y == cl, 1],\n",
        "                       alpha=0.8, c=cmap(idx),\n",
        "                       marker=markers[idx], label=cl)\n",
        "    # highlight test samples\n",
        "    if test_idx:\n",
        "        X_test, y_test = X[test_idx, :], y[test_idx]\n",
        "        plt.scatter(X_test[:, 0], X_test[:, 1], c='',\n",
        "                   alpha=1.0, linewidth=1, marker='o',\n",
        "                   s=55, label='test set')"
      ],
      "execution_count": 0,
      "outputs": []
    },
    {
      "cell_type": "code",
      "metadata": {
        "id": "Kafxe0KllG-l",
        "colab_type": "code",
        "colab": {}
      },
      "source": [
        "X_combined_std = np.vstack((X_train_std, X_test_std))\n",
        "y_combined = np.hstack((y_train, y_test))\n",
        "#plot_decision_regions(X=X_combined_std,y=y_combined,classifier=ppn,test_idx=range(105,150))\n",
        "plot_decision_regions(X=X_combined_std,y=y_combined,classifier=ppn)\n",
        "plt.xlabel('petal length [standardized]')\n",
        "plt.ylabel('petal width [standardized]')\n",
        "plt.legend(loc='upper left')\n",
        "plt.show()"
      ],
      "execution_count": 0,
      "outputs": []
    }
  ]
}