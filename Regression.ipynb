{
  "nbformat": 4,
  "nbformat_minor": 0,
  "metadata": {
    "colab": {
      "name": "Regression.ipynb",
      "version": "0.3.2",
      "provenance": [],
      "collapsed_sections": [],
      "include_colab_link": true
    },
    "kernelspec": {
      "name": "python3",
      "display_name": "Python 3"
    }
  },
  "cells": [
    {
      "cell_type": "markdown",
      "metadata": {
        "id": "view-in-github",
        "colab_type": "text"
      },
      "source": [
        "<a href=\"https://colab.research.google.com/github/patha325/AFAIGCG/blob/master/Regression.ipynb\" target=\"_parent\"><img src=\"https://colab.research.google.com/assets/colab-badge.svg\" alt=\"Open In Colab\"/></a>"
      ]
    },
    {
      "cell_type": "code",
      "metadata": {
        "id": "l5psJs4TDReP",
        "colab_type": "code",
        "colab": {}
      },
      "source": [
        "print(__doc__)\n",
        "\n",
        "\n",
        "# Code source: Jaques Grobler\n",
        "# License: BSD 3 clause\n",
        "\n",
        "\n",
        "import matplotlib.pyplot as plt\n",
        "import numpy as np\n",
        "import pandas as pd\n",
        "from sklearn import datasets, linear_model\n",
        "from sklearn.metrics import mean_squared_error, r2_score\n",
        "import seaborn as sns \n",
        "\n",
        "def sklearn_to_df(sklearn_dataset):\n",
        "    df = pd.DataFrame(sklearn_dataset.data, columns=sklearn_dataset.feature_names)\n",
        "    df['target'] = pd.Series(sklearn_dataset.target)\n",
        "    return df\n",
        "\n",
        "\n",
        "\n"
      ],
      "execution_count": 0,
      "outputs": []
    },
    {
      "cell_type": "code",
      "metadata": {
        "id": "1JMrEUR5DSIi",
        "colab_type": "code",
        "colab": {}
      },
      "source": [
        "# Load the California housing dataset: \n",
        "# https://scikit-learn.org/stable/datasets/index.html#california-housing-dataset\n",
        "housing = datasets.fetch_california_housing()\n",
        "\n",
        "print(housing.feature_names)\n",
        "\n",
        "df_boston = sklearn_to_df(housing)\n",
        "\n",
        "# Use only one feature\n",
        "housing_X = housing.data[:, np.newaxis, 6] \n",
        "housing_Y = housing.data[:, np.newaxis, 7] \n",
        "\n",
        "# Split the data into training/testing sets\n",
        "housing_X_train = housing_X[:-10000]\n",
        "housing_X_test = housing_X[-10000:]\n",
        "\n",
        "housing_y_train = housing_Y[:-10000]\n",
        "housing_y_test = housing_Y[-10000:]\n",
        "\n",
        "# Split the targets into training/testing sets\n",
        "#housing_y_train = housing.target[:-10000]\n",
        "#housing_y_test = housing.target[-10000:]"
      ],
      "execution_count": 0,
      "outputs": []
    },
    {
      "cell_type": "code",
      "metadata": {
        "id": "vsA9VOgN2U6U",
        "colab_type": "code",
        "colab": {}
      },
      "source": [
        "#correlation matrix\n",
        "corrmat = df_boston.corr()\n",
        "f, ax = plt.subplots(figsize=(12, 9))\n",
        "sns.heatmap(corrmat, vmax=.8, square=True);"
      ],
      "execution_count": 0,
      "outputs": []
    },
    {
      "cell_type": "code",
      "metadata": {
        "id": "vLPu6B1s10F9",
        "colab_type": "code",
        "colab": {}
      },
      "source": [
        "#scatter plot\n",
        "var = 'Longitude'\n",
        "data = pd.concat([df_boston['Latitude'], df_boston[var]], axis=1)\n",
        "data.plot.scatter(x=var, y='Latitude');"
      ],
      "execution_count": 0,
      "outputs": []
    },
    {
      "cell_type": "code",
      "metadata": {
        "id": "tY9EfJlZDg1W",
        "colab_type": "code",
        "colab": {}
      },
      "source": [
        "# Create linear regression object\n",
        "regr = linear_model.LinearRegression()"
      ],
      "execution_count": 0,
      "outputs": []
    },
    {
      "cell_type": "code",
      "metadata": {
        "id": "YXghJDt3Divm",
        "colab_type": "code",
        "colab": {}
      },
      "source": [
        "# Train the model using the training sets\n",
        "regr.fit(housing_X_train, housing_y_train)"
      ],
      "execution_count": 0,
      "outputs": []
    },
    {
      "cell_type": "code",
      "metadata": {
        "id": "auz3cotTDlAr",
        "colab_type": "code",
        "colab": {}
      },
      "source": [
        "# Make predictions using the testing set\n",
        "housing_y_pred = regr.predict(housing_X_test)"
      ],
      "execution_count": 0,
      "outputs": []
    },
    {
      "cell_type": "code",
      "metadata": {
        "id": "Ba5xgZtaDmbF",
        "colab_type": "code",
        "colab": {}
      },
      "source": [
        "# The coefficients\n",
        "print('Coefficients: \\n', regr.coef_)\n",
        "# The mean squared error\n",
        "print(\"Mean squared error: %.2f\"\n",
        "      % mean_squared_error(housing_y_test, housing_y_pred))\n",
        "# Explained variance score: 1 is perfect prediction\n",
        "print('Variance score: %.2f' % r2_score(housing_y_test, housing_y_pred))\n",
        "\n",
        "# Plot outputs\n",
        "plt.scatter(housing_X_test, housing_y_test,  color='black')\n",
        "plt.plot(housing_X_test, housing_y_pred, color='blue', linewidth=3)\n",
        "\n",
        "plt.xticks(())\n",
        "plt.yticks(())\n",
        "\n",
        "plt.show()"
      ],
      "execution_count": 0,
      "outputs": []
    },
    {
      "cell_type": "code",
      "metadata": {
        "id": "k3IZAA_R0B3U",
        "colab_type": "code",
        "colab": {}
      },
      "source": [
        ""
      ],
      "execution_count": 0,
      "outputs": []
    }
  ]
}